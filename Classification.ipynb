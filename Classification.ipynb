{
 "cells": [
  {
   "cell_type": "code",
   "execution_count": 1,
   "metadata": {
    "ExecuteTime": {
     "end_time": "2020-12-02T06:41:40.208153Z",
     "start_time": "2020-12-02T06:41:40.204153Z"
    },
    "executionInfo": {
     "elapsed": 1229,
     "status": "ok",
     "timestamp": 1607271626582,
     "user": {
      "displayName": "N26090669林于暄",
      "photoUrl": "",
      "userId": "16825186410579105945"
     },
     "user_tz": -480
    },
    "id": "Vs3uxwAN9s8p"
   },
   "outputs": [],
   "source": [
    "import torch\n",
    "import os\n",
    "import torch.nn as nn\n",
    "from tqdm import tqdm_notebook as tqdm_notebook\n",
    "from tqdm import tqdm\n",
    "from PIL import Image\n",
    "from torchvision import datasets, models, transforms, models, utils\n",
    "from torch.utils.data.sampler import SubsetRandomSampler\n",
    "from torch.optim import lr_scheduler\n",
    "from pathlib import Path\n",
    "from matplotlib import pyplot as plt\n",
    "import numpy as np\n",
    "import pandas as pd\n",
    "import torch.nn.functional as F\n",
    "from torch import optim\n",
    "from torch.autograd import Variable\n",
    "from sklearn.model_selection import train_test_split\n",
    "import matplotlib.pyplot as plt\n",
    "from torch.utils.data import Dataset, DataLoader\n",
    "import torchvision.models as models\n",
    "#import torch_optimizer as optim\n",
    "import random\n",
    "#from ipywidgets import IntProgress\n",
    "import time"
   ]
  },
  {
   "cell_type": "code",
   "execution_count": 2,
   "metadata": {
    "ExecuteTime": {
     "end_time": "2020-12-02T06:41:46.242452Z",
     "start_time": "2020-12-02T06:41:46.238451Z"
    },
    "executionInfo": {
     "elapsed": 1206,
     "status": "ok",
     "timestamp": 1607271626585,
     "user": {
      "displayName": "N26090669林于暄",
      "photoUrl": "",
      "userId": "16825186410579105945"
     },
     "user_tz": -480
    },
    "id": "1vnVaAni9s8p"
   },
   "outputs": [
    {
     "name": "stdout",
     "output_type": "stream",
     "text": [
      "cuda Tesla V100-SXM2-32GB 1\n"
     ]
    }
   ],
   "source": [
    "# gpu or cpu\n",
    "if torch.cuda.is_available():\n",
    "  device = torch.device(\"cuda\")\n",
    "  # device name, number\n",
    "  print(device,torch.cuda.get_device_name(0),torch.cuda.device_count())\n",
    "else:\n",
    "  device = torch.device(\"cpu\")\n",
    "  print(device)"
   ]
  },
  {
   "cell_type": "markdown",
   "metadata": {
    "id": "ptmCsddv9s8r"
   },
   "source": [
    "# Data Loader"
   ]
  },
  {
   "cell_type": "code",
   "execution_count": 3,
   "metadata": {
    "ExecuteTime": {
     "end_time": "2020-12-02T06:41:52.538276Z",
     "start_time": "2020-12-02T06:41:52.527273Z"
    },
    "colab": {
     "base_uri": "https://localhost:8080/"
    },
    "executionInfo": {
     "elapsed": 1847,
     "status": "ok",
     "timestamp": 1607271627237,
     "user": {
      "displayName": "N26090669林于暄",
      "photoUrl": "",
      "userId": "16825186410579105945"
     },
     "user_tz": -480
    },
    "id": "MHxo-uql9s8r",
    "outputId": "bffea9a7-a295-4b15-813c-1210d50aeaa5"
   },
   "outputs": [
    {
     "name": "stdout",
     "output_type": "stream",
     "text": [
      "<class 'pandas.core.frame.DataFrame'>\n",
      "RangeIndex: 2028 entries, 0 to 2027\n",
      "Data columns (total 4 columns):\n",
      "id              2028 non-null object\n",
      "light           2028 non-null object\n",
      "ground_truth    2028 non-null float64\n",
      "grade           2028 non-null int64\n",
      "dtypes: float64(1), int64(1), object(2)\n",
      "memory usage: 63.5+ KB\n",
      "None\n",
      "                                        id light  ground_truth  grade\n",
      "0  00130747_A_3457_20200715_100727_7.5.jpg     A           7.5      1\n",
      "1  00130747_A_3458_20200715_100736_7.5.jpg     A           7.5      1\n",
      "2  00130747_A_4810_20200812_112534_7.9.jpg     A           7.9      1\n",
      "3  00130747_A_4811_20200812_112539_7.9.jpg     A           7.9      1\n",
      "4  00241567_A_6659_20200916_153156_7.6.jpg     A           7.6      1\n"
     ]
    }
   ],
   "source": [
    "df = pd.read_csv('./training_data_resize/training_data.csv')\n",
    "print(df.info())\n",
    "print(df.head())"
   ]
  },
  {
   "cell_type": "code",
   "execution_count": 4,
   "metadata": {
    "ExecuteTime": {
     "end_time": "2020-12-02T06:42:01.128286Z",
     "start_time": "2020-12-02T06:42:01.125286Z"
    },
    "colab": {
     "base_uri": "https://localhost:8080/"
    },
    "executionInfo": {
     "elapsed": 1837,
     "status": "ok",
     "timestamp": 1607271627239,
     "user": {
      "displayName": "N26090669林于暄",
      "photoUrl": "",
      "userId": "16825186410579105945"
     },
     "user_tz": -480
    },
    "id": "Q7ybSy4m9s8r",
    "outputId": "71da2f92-6aa6-4f71-cdb7-79bb35be505b"
   },
   "outputs": [
    {
     "name": "stdout",
     "output_type": "stream",
     "text": [
      "{1: 0, 2: 1, 3: 2}\n"
     ]
    }
   ],
   "source": [
    "# class id\n",
    "grade = df['grade'].to_numpy()\n",
    "grade_set = set(grade)\n",
    "grade_list = list(grade_set)\n",
    "dic = {}\n",
    "for i in range(len(grade_set)):\n",
    "    dic[grade_list[i]] = i\n",
    "print(dic)  # dic是一個class tpye to id"
   ]
  },
  {
   "cell_type": "code",
   "execution_count": 5,
   "metadata": {
    "ExecuteTime": {
     "end_time": "2020-12-02T06:42:05.277238Z",
     "start_time": "2020-12-02T06:42:05.264234Z"
    },
    "colab": {
     "base_uri": "https://localhost:8080/"
    },
    "executionInfo": {
     "elapsed": 1826,
     "status": "ok",
     "timestamp": 1607271627240,
     "user": {
      "displayName": "N26090669林于暄",
      "photoUrl": "",
      "userId": "16825186410579105945"
     },
     "user_tz": -480
    },
    "id": "iwplGcKA9s8r",
    "outputId": "933bea6b-29d2-42a4-a1ea-6b038f40f24b"
   },
   "outputs": [
    {
     "name": "stdout",
     "output_type": "stream",
     "text": [
      "1419\n"
     ]
    }
   ],
   "source": [
    "# data, label\n",
    "file_id = df[\"id\"].to_numpy()\n",
    "light = df[\"light\"].to_numpy()\n",
    "grade = df['grade'].to_numpy()\n",
    "\n",
    "file = []\n",
    "number = []\n",
    "for i in range(len(light)):\n",
    "    file.append(os.path.join(\"./training_data_resize\", light[i], file_id[i]))\n",
    "    number.append(dic[grade[i]])\n",
    "\n",
    "'''\n",
    "print(file)\n",
    "print(number)\n",
    "print(type(file))\n",
    "print(type(number))\n",
    "print(len(file))\n",
    "print(len(number))\n",
    "'''\n",
    "\n",
    "# shuffle data\n",
    "temp = list(zip(file, number))\n",
    "random.shuffle(temp)\n",
    "file, number = zip(*temp)\n",
    "\n",
    "file = np.array(file)\n",
    "number = np.array(number)\n",
    "\n",
    "#train validation data 7:3\n",
    "TVrate = 0.7\n",
    "file_train = file[:int(len(file)*TVrate)]\n",
    "file_vali = file[int(len(file)*TVrate):]\n",
    "print(len(file_train))\n",
    "#print(len(file_vali))\n",
    "\n",
    "number_train = number[:int(len(file)*TVrate)]\n",
    "number_vali = number[int(len(file)*TVrate):]\n",
    "#print(number_train)"
   ]
  },
  {
   "cell_type": "code",
   "execution_count": 6,
   "metadata": {
    "ExecuteTime": {
     "end_time": "2020-12-02T06:42:18.101011Z",
     "start_time": "2020-12-02T06:42:18.095010Z"
    },
    "code_folding": [],
    "colab": {
     "base_uri": "https://localhost:8080/"
    },
    "executionInfo": {
     "elapsed": 1816,
     "status": "ok",
     "timestamp": 1607271627241,
     "user": {
      "displayName": "N26090669林于暄",
      "photoUrl": "",
      "userId": "16825186410579105945"
     },
     "user_tz": -480
    },
    "id": "z2h6vsUH9s8r",
    "outputId": "f0460d8e-734c-400f-84c0-a1c5c393c4d3"
   },
   "outputs": [
    {
     "name": "stderr",
     "output_type": "stream",
     "text": [
      "/opt/conda/lib/python3.6/site-packages/torchvision/transforms/transforms.py:220: UserWarning: The use of the transforms.Scale transform is deprecated, please use transforms.Resize instead.\n",
      "  \"please use transforms.Resize instead.\")\n"
     ]
    }
   ],
   "source": [
    "preprocess = transforms.Compose([\n",
    "    transforms.Scale(256),\n",
    "    transforms.CenterCrop(210),\n",
    "    #transforms.Grayscale(num_output_channels=3),\n",
    "    transforms.RandomAffine(degrees=30),\n",
    "    transforms.RandomHorizontalFlip(p=0.5),\n",
    "    transforms.RandomVerticalFlip(p=0.5),\n",
    "    transforms.ToTensor(),\n",
    "    transforms.Normalize(mean=[0.485, 0.456, 0.406], std=[0.229, 0.224, 0.225])\n",
    "])\n",
    "\n",
    "\n",
    "def default_loader(path):\n",
    "    img_pil = Image.open(path)\n",
    "    #img_pil = img_pil.resize((224, 224))\n",
    "    img_tensor = preprocess(img_pil)\n",
    "    return img_tensor\n",
    "\n",
    "class train_set(Dataset):\n",
    "    def __init__(self, loader=default_loader):\n",
    "        self.images = file_train\n",
    "        self.target = number_train\n",
    "        self.loader = loader\n",
    "\n",
    "    def __getitem__(self, index):\n",
    "        fn = self.images[index]\n",
    "        img = self.loader(fn)\n",
    "        target = self.target[index]\n",
    "        return img, target\n",
    "\n",
    "    def __len__(self):\n",
    "        return len(self.images)\n",
    "\n",
    "class valid_set(Dataset):\n",
    "    def __init__(self, loader=default_loader):\n",
    "        self.images = file_vali\n",
    "        self.target = number_vali\n",
    "        self.loader = loader\n",
    "\n",
    "    def __getitem__(self, index):\n",
    "        fn = self.images[index]\n",
    "        img = self.loader(fn)\n",
    "        target = self.target[index]\n",
    "        return img, target\n",
    "\n",
    "    def __len__(self):\n",
    "        return len(self.images)"
   ]
  },
  {
   "cell_type": "code",
   "execution_count": 7,
   "metadata": {
    "ExecuteTime": {
     "end_time": "2020-12-02T06:47:25.562747Z",
     "start_time": "2020-12-02T06:47:25.559746Z"
    },
    "colab": {
     "base_uri": "https://localhost:8080/"
    },
    "executionInfo": {
     "elapsed": 1806,
     "status": "ok",
     "timestamp": 1607271627242,
     "user": {
      "displayName": "N26090669林于暄",
      "photoUrl": "",
      "userId": "16825186410579105945"
     },
     "user_tz": -480
    },
    "id": "KvykZt_Z9s8r",
    "outputId": "ef10a584-a92d-4d69-f2a5-5117432f3958"
   },
   "outputs": [
    {
     "name": "stdout",
     "output_type": "stream",
     "text": [
      "23\n",
      "20\n"
     ]
    }
   ],
   "source": [
    "train_data = train_set()\n",
    "trainloader = DataLoader(train_data, batch_size=64, shuffle=True,pin_memory=True)\n",
    "valid_data = valid_set()\n",
    "validloader = DataLoader(valid_data, batch_size=32, shuffle=True,pin_memory=True)\n",
    "print(len(trainloader))\n",
    "print(len(validloader))"
   ]
  },
  {
   "cell_type": "markdown",
   "metadata": {
    "id": "9EdP55yy9s8s"
   },
   "source": [
    "# Model"
   ]
  },
  {
   "cell_type": "code",
   "execution_count": 8,
   "metadata": {
    "ExecuteTime": {
     "end_time": "2020-12-02T06:47:55.746489Z",
     "start_time": "2020-12-02T06:47:54.647223Z"
    },
    "colab": {
     "base_uri": "https://localhost:8080/",
     "height": 72
    },
    "executionInfo": {
     "elapsed": 1781,
     "status": "ok",
     "timestamp": 1607271627249,
     "user": {
      "displayName": "N26090669林于暄",
      "photoUrl": "",
      "userId": "16825186410579105945"
     },
     "user_tz": -480
    },
    "id": "8v8Xp_RZ9s8s",
    "outputId": "3c5c2afb-898b-4f5c-e196-ebef922ca5b4"
   },
   "outputs": [
    {
     "data": {
      "text/plain": [
       "\"\\n#from torchsummary import summary\\nmodel = models.vgg16(pretrained=True)\\n#model.classifier[6] = nn.Linear(4096,4096)\\nmodel.classifier[6] = nn.Linear(4096,3)\\n\\n# resuming training\\n#model.load_state_dict(torch.load(img_path + '/vgg16_model/model_vgg'+ str(12)+'.pth'))\\n#summary(model.to('cuda:0'), (3, 224, 224))\\n\\n#print(next(model.parameters()).is_cuda)\\n\""
      ]
     },
     "execution_count": 8,
     "metadata": {},
     "output_type": "execute_result"
    }
   ],
   "source": [
    "'''\n",
    "#from torchsummary import summary\n",
    "model = models.vgg16(pretrained=True)\n",
    "#model.classifier[6] = nn.Linear(4096,4096)\n",
    "model.classifier[6] = nn.Linear(4096,3)\n",
    "\n",
    "# resuming training\n",
    "#model.load_state_dict(torch.load(img_path + '/vgg16_model/model_vgg'+ str(12)+'.pth'))\n",
    "#summary(model.to('cuda:0'), (3, 224, 224))\n",
    "\n",
    "#print(next(model.parameters()).is_cuda)\n",
    "'''"
   ]
  },
  {
   "cell_type": "code",
   "execution_count": 9,
   "metadata": {
    "colab": {
     "base_uri": "https://localhost:8080/",
     "height": 54
    },
    "executionInfo": {
     "elapsed": 1765,
     "status": "ok",
     "timestamp": 1607271627250,
     "user": {
      "displayName": "N26090669林于暄",
      "photoUrl": "",
      "userId": "16825186410579105945"
     },
     "user_tz": -480
    },
    "id": "ugSRkNEUUzTF",
    "outputId": "5c0ac890-8029-445b-a549-e7dec18fd011"
   },
   "outputs": [
    {
     "name": "stdout",
     "output_type": "stream",
     "text": [
      "Requirement already satisfied: efficientnet-pytorch in ./.local/lib/python3.6/site-packages (0.7.0)\n",
      "Requirement already satisfied: torch in /opt/conda/lib/python3.6/site-packages (from efficientnet-pytorch) (1.5.0a0+3bbb36e)\n",
      "Loaded pretrained weights for efficientnet-b2\n"
     ]
    }
   ],
   "source": [
    "\n",
    "!pip install efficientnet-pytorch\n",
    "from efficientnet_pytorch import EfficientNet\n",
    "model = EfficientNet.from_pretrained('efficientnet-b2', num_classes=3)\n",
    "\n",
    "# resuming training\n",
    "#model.load_state_dict(torch.load(img_path + '/modelb0_2/model'+ str(12)+'.pth'))\n",
    "#summary(model.to('cuda:0'), (3, 224, 224))\n"
   ]
  },
  {
   "cell_type": "code",
   "execution_count": 10,
   "metadata": {
    "executionInfo": {
     "elapsed": 1759,
     "status": "ok",
     "timestamp": 1607271627252,
     "user": {
      "displayName": "N26090669林于暄",
      "photoUrl": "",
      "userId": "16825186410579105945"
     },
     "user_tz": -480
    },
    "id": "Sq1eSvSnnwkY"
   },
   "outputs": [
    {
     "data": {
      "text/plain": [
       "\"\\n#from torchsummary import summary\\nmodel = models.resnet18(pretrained=True)\\nmodel.fc = nn.Sequential(\\n    nn.Dropout(0.5),\\n    nn.Linear(512, 3)\\n)\\n#summary(model.to('cuda:0'), (3, 224, 224))\\n\""
      ]
     },
     "execution_count": 10,
     "metadata": {},
     "output_type": "execute_result"
    }
   ],
   "source": [
    "'''\n",
    "#from torchsummary import summary\n",
    "model = models.resnet18(pretrained=True)\n",
    "model.fc = nn.Sequential(\n",
    "    nn.Dropout(0.5),\n",
    "    nn.Linear(512, 3)\n",
    ")\n",
    "#summary(model.to('cuda:0'), (3, 224, 224))\n",
    "'''"
   ]
  },
  {
   "cell_type": "code",
   "execution_count": 11,
   "metadata": {
    "colab": {
     "base_uri": "https://localhost:8080/",
     "height": 54
    },
    "executionInfo": {
     "elapsed": 2088,
     "status": "ok",
     "timestamp": 1607271627595,
     "user": {
      "displayName": "N26090669林于暄",
      "photoUrl": "",
      "userId": "16825186410579105945"
     },
     "user_tz": -480
    },
    "id": "qwdCceFo_Rwk",
    "outputId": "ef167db8-6baf-4022-d093-f84d8f0cb426"
   },
   "outputs": [
    {
     "data": {
      "text/plain": [
       "\"\\nfrom torchsummary import summary\\nmodel = models.alexnet(pretrained=True)\\nmodel.classifier[6] = nn.Linear(4096,3)\\n\\nsummary(model.to('cuda:0'), (3, 224, 224))\\n\""
      ]
     },
     "execution_count": 11,
     "metadata": {},
     "output_type": "execute_result"
    }
   ],
   "source": [
    "'''\n",
    "from torchsummary import summary\n",
    "model = models.alexnet(pretrained=True)\n",
    "model.classifier[6] = nn.Linear(4096,3)\n",
    "\n",
    "summary(model.to('cuda:0'), (3, 224, 224))\n",
    "'''"
   ]
  },
  {
   "cell_type": "code",
   "execution_count": 12,
   "metadata": {
    "colab": {
     "base_uri": "https://localhost:8080/",
     "height": 72
    },
    "executionInfo": {
     "elapsed": 2073,
     "status": "ok",
     "timestamp": 1607271627597,
     "user": {
      "displayName": "N26090669林于暄",
      "photoUrl": "",
      "userId": "16825186410579105945"
     },
     "user_tz": -480
    },
    "id": "F-HG4RVc60Do",
    "outputId": "0ff17b18-181b-4396-89d8-fccaf5c814d7"
   },
   "outputs": [
    {
     "data": {
      "text/plain": [
       "\"\\n# frozen model\\nfrom torchsummary import summary\\nmodel = models.vgg16(pretrained=True)\\n\\n#for param in model.parameters():\\n#    param.requires_grad = False\\n\\n#model.classifier[3] = nn.Linear(4096,4096)\\nmodel.classifier[6] = nn.Linear(4096,3)\\n#summary(model.to('cuda:0'), (3, 224, 224))\\n# resuming training\\n#model.load_state_dict(torch.load(img_path + 'vgg16_model/model_vgg5.pth'))\\n\""
      ]
     },
     "execution_count": 12,
     "metadata": {},
     "output_type": "execute_result"
    }
   ],
   "source": [
    "'''\n",
    "# frozen model\n",
    "from torchsummary import summary\n",
    "model = models.vgg16(pretrained=True)\n",
    "\n",
    "#for param in model.parameters():\n",
    "#    param.requires_grad = False\n",
    "\n",
    "#model.classifier[3] = nn.Linear(4096,4096)\n",
    "model.classifier[6] = nn.Linear(4096,3)\n",
    "#summary(model.to('cuda:0'), (3, 224, 224))\n",
    "# resuming training\n",
    "#model.load_state_dict(torch.load(img_path + 'vgg16_model/model_vgg5.pth'))\n",
    "'''"
   ]
  },
  {
   "cell_type": "code",
   "execution_count": 13,
   "metadata": {
    "executionInfo": {
     "elapsed": 2066,
     "status": "ok",
     "timestamp": 1607271627598,
     "user": {
      "displayName": "N26090669林于暄",
      "photoUrl": "",
      "userId": "16825186410579105945"
     },
     "user_tz": -480
    },
    "id": "F8WCUdw3jDKO"
   },
   "outputs": [],
   "source": [
    "class LabelSmoothingCrossEntropy(nn.Module):\n",
    "    def __init__(self):\n",
    "        super(LabelSmoothingCrossEntropy, self).__init__()\n",
    "    def forward(self, x, target, smoothing=0.4):\n",
    "        confidence = 1. - smoothing\n",
    "        logprobs = F.log_softmax(x, dim=-1)\n",
    "        nll_loss = -logprobs.gather(dim=-1, index=target.unsqueeze(1))\n",
    "        nll_loss = nll_loss.squeeze(1)\n",
    "        smooth_loss = -logprobs.mean(dim=-1)\n",
    "        loss = confidence * nll_loss + smoothing * smooth_loss\n",
    "        return loss.mean()"
   ]
  },
  {
   "cell_type": "code",
   "execution_count": 14,
   "metadata": {
    "ExecuteTime": {
     "end_time": "2020-12-02T06:49:44.400230Z",
     "start_time": "2020-12-02T06:47:55.930531Z"
    },
    "code_folding": [],
    "colab": {
     "base_uri": "https://localhost:8080/"
    },
    "id": "QvDVJBxO9s8s",
    "outputId": "edaf75c8-85a1-43e9-f5c1-f6beed36f31c",
    "scrolled": true
   },
   "outputs": [
    {
     "ename": "FileExistsError",
     "evalue": "[Errno 17] File exists: './test'",
     "output_type": "error",
     "traceback": [
      "\u001b[0;31m---------------------------------------------------------------------------\u001b[0m",
      "\u001b[0;31mFileExistsError\u001b[0m                           Traceback (most recent call last)",
      "\u001b[0;32m<ipython-input-14-fbdf7a702abd>\u001b[0m in \u001b[0;36m<module>\u001b[0;34m\u001b[0m\n\u001b[1;32m     11\u001b[0m \u001b[0;31m#unfrozen = 16\u001b[0m\u001b[0;34m\u001b[0m\u001b[0;34m\u001b[0m\u001b[0;34m\u001b[0m\u001b[0m\n\u001b[1;32m     12\u001b[0m \u001b[0;34m\u001b[0m\u001b[0m\n\u001b[0;32m---> 13\u001b[0;31m \u001b[0mos\u001b[0m\u001b[0;34m.\u001b[0m\u001b[0mmkdir\u001b[0m\u001b[0;34m(\u001b[0m\u001b[0;34m\"./test\"\u001b[0m\u001b[0;34m)\u001b[0m\u001b[0;34m\u001b[0m\u001b[0;34m\u001b[0m\u001b[0m\n\u001b[0m\u001b[1;32m     14\u001b[0m \u001b[0;32mfor\u001b[0m \u001b[0mepoch\u001b[0m \u001b[0;32min\u001b[0m \u001b[0mrange\u001b[0m\u001b[0;34m(\u001b[0m\u001b[0mepoch_start\u001b[0m\u001b[0;34m,\u001b[0m \u001b[0mepochs\u001b[0m\u001b[0;34m+\u001b[0m\u001b[0;36m1\u001b[0m\u001b[0;34m)\u001b[0m\u001b[0;34m:\u001b[0m\u001b[0;34m\u001b[0m\u001b[0;34m\u001b[0m\u001b[0m\n\u001b[1;32m     15\u001b[0m     \u001b[0;31m# keep track of training and validation loss\u001b[0m\u001b[0;34m\u001b[0m\u001b[0;34m\u001b[0m\u001b[0;34m\u001b[0m\u001b[0m\n",
      "\u001b[0;31mFileExistsError\u001b[0m: [Errno 17] File exists: './test'"
     ]
    }
   ],
   "source": [
    "model = torch.nn.DataParallel(model, device_ids=None, output_device=None, dim=0).to(device)\n",
    "#criterion = LabelSmoothingCrossEntropy()\n",
    "criterion = nn.CrossEntropyLoss().to(device)\n",
    "optimizer = torch.optim.SGD(params=model.parameters(), lr=0.001, momentum=0.9)\n",
    "#optimizer = torch.optim.Adam(params=model.parameters(), lr=0.001)\n",
    "#optimizer = optim.Ranger(params=model.parameters(), lr=0.001)\n",
    "#scheduler = torch.optim.lr_scheduler.StepLR(optimizer, step_size=3, gamma=0.7)\n",
    "scheduler = torch.optim.lr_scheduler.StepLR(optimizer, step_size=10, gamma=0.1)\n",
    "epoch_start = 1\n",
    "epochs = 500\n",
    "#unfrozen = 16\n",
    "\n",
    "os.mkdir(\"./test\")\n",
    "for epoch in range(epoch_start, epochs+1):\n",
    "    # keep track of training and validation loss\n",
    "    train_loss = 0.0\n",
    "    valid_loss = 0.0\n",
    "    valid_loss_min = 0.0\n",
    "    train_acc = 0\n",
    "    val_acc = 0\n",
    "    start = time.time()\n",
    "    \n",
    "    # write loss in txt file\n",
    "    f = open('./test/model.txt', 'a')\n",
    "    #f.write('running epoch: {}'.format(epoch))\n",
    "    f.close()\n",
    "    print('running epoch: {}'.format(epoch))\n",
    "\n",
    "    '''\n",
    "    ### unfrozen model  \n",
    "    if epoch == unfrozen:\n",
    "        for param in model.parameters():\n",
    "            param.requires_grad = True\n",
    "    if epoch == 30:\n",
    "        optimizer = torch.optim.SGD(params=model.parameters(), lr=0.0001, momentum=0.9)\n",
    "    '''\n",
    "\n",
    "    ### train the model\n",
    "    model.train()\n",
    "    #for data, target in tqdm(trainloader):\n",
    "    for data, target in trainloader:\n",
    "        target = target.long()\n",
    "        data, target = data.to(device), target.to(device)\n",
    "        # clear the gradients of all optimized variables\n",
    "        optimizer.zero_grad()\n",
    "        # forward pass: compute predicted outputs by passing inputs to the model\n",
    "        output = model(data)\n",
    "        # calculate the batch loss\n",
    "        loss = criterion(output, target)\n",
    "        #\n",
    "        _, preds = torch.max(output, 1)\n",
    "        # backward pass: compute gradient of the loss with respect to model parameters\n",
    "        loss.backward()\n",
    "        # perform a single optimization step (parameter update)\n",
    "        optimizer.step()\n",
    "        # update training loss\n",
    "        train_loss += loss.item()*data.size(0)\n",
    "        train_acc += torch.sum(preds == target) \n",
    "\n",
    "    ### validate the model\n",
    "    model.eval()\n",
    "    #for data, target in tqdm(validloader):\n",
    "    for data, target in validloader:\n",
    "        target = target.long()\n",
    "        data, target = data.to(device), target.to(device)\n",
    "        # forward pass: compute predicted outputs by passing inputs to the model\n",
    "        output = model(data)\n",
    "        # calculate the batch loss\n",
    "        loss = criterion(output, target)\n",
    "        #\n",
    "        _, preds = torch.max(output, 1)\n",
    "        # update average validation loss\n",
    "        valid_loss += loss.item()*data.size(0)\n",
    "        val_acc += torch.sum(preds == target)\n",
    "    # update lr\n",
    "    #scheduler.step()\n",
    "    \n",
    "    train_loss = train_loss/len(trainloader.dataset)\n",
    "    valid_loss = valid_loss/len(validloader.dataset)\n",
    "\n",
    "    train_acc = int(train_acc)/int(len(file)*0.7)\n",
    "    val_acc = int(val_acc)/int(len(file)*0.3)\n",
    "    end = time.time()\n",
    "    \n",
    "    print('\\tTraining Loss: {:.6f} \\tTraining Acc: {:.4f} \\tValidation Loss: {:.6f} \\tValidation Acc: {:.4f} \\tTime: {:.2f}'.format(\n",
    "        train_loss, train_acc, valid_loss, val_acc, end-start))\n",
    "    # write loss in txt file\n",
    "    f = open('./test/model.txt', 'a')\n",
    "    #f.write('\\tTraining Loss: {:.6f} \\tTraining Acc: {:.4f} \\tValidation Loss: {:.6f} \\tValidation Acc: {:.4f} \\tTime: {:.2f}\\n'.format(\n",
    "    #    train_loss, train_acc, valid_loss, val_acc, end-start))\n",
    "    f.close()\n",
    "\n",
    "    # save model\n",
    "    #torch.save(model.state_dict(),img_path + '/modelb_A_2/model'+ str(epoch) +'.pth')\n",
    "    torch.save(model, './test/model'+ str(epoch) +'.pth')"
   ]
  }
 ],
 "metadata": {
  "accelerator": "GPU",
  "colab": {
   "collapsed_sections": [],
   "name": "Classification_resize.ipynb",
   "provenance": []
  },
  "kernelspec": {
   "display_name": "Python 3",
   "language": "python",
   "name": "python3"
  },
  "language_info": {
   "codemirror_mode": {
    "name": "ipython",
    "version": 3
   },
   "file_extension": ".py",
   "mimetype": "text/x-python",
   "name": "python",
   "nbconvert_exporter": "python",
   "pygments_lexer": "ipython3",
   "version": "3.6.9"
  },
  "toc": {
   "base_numbering": 1,
   "nav_menu": {},
   "number_sections": true,
   "sideBar": true,
   "skip_h1_title": false,
   "title_cell": "Table of Contents",
   "title_sidebar": "Contents",
   "toc_cell": false,
   "toc_position": {
    "height": "calc(100% - 180px)",
    "left": "10px",
    "top": "150px",
    "width": "384px"
   },
   "toc_section_display": true,
   "toc_window_display": true
  },
  "varInspector": {
   "cols": {
    "lenName": 16,
    "lenType": 16,
    "lenVar": 40
   },
   "kernels_config": {
    "python": {
     "delete_cmd_postfix": "",
     "delete_cmd_prefix": "del ",
     "library": "var_list.py",
     "varRefreshCmd": "print(var_dic_list())"
    },
    "r": {
     "delete_cmd_postfix": ") ",
     "delete_cmd_prefix": "rm(",
     "library": "var_list.r",
     "varRefreshCmd": "cat(var_dic_list()) "
    }
   },
   "oldHeight": 739.99978,
   "position": {
    "height": "40px",
    "left": "1802.98px",
    "right": "20px",
    "top": "69px",
    "width": "252.726px"
   },
   "types_to_exclude": [
    "module",
    "function",
    "builtin_function_or_method",
    "instance",
    "_Feature"
   ],
   "varInspector_section_display": "none",
   "window_display": true
  }
 },
 "nbformat": 4,
 "nbformat_minor": 1
}
